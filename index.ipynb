{
 "cells": [
  {
   "cell_type": "markdown",
   "id": "2fa75fc6",
   "metadata": {},
   "source": [
    "\n",
    "### 👋 Hi, I’m @tornado-tintin\n",
    " I’m interested in explaining and improving Tornado cash. I want to do this by trying to break tornado cash !\n",
    " - I graphed deposits and withdrawals across time for all pools from all the networks [here](https://tornadotintin.github.io/wbtc10pool.html)\n",
    " -  I took a closer look at a single pool: 10 wBTC [here](https://tornadotintin.github.io/usageGraphed.html).\n",
    " Playing with repeated users and sudden spikes of usage show some promising approaches.\n",
    "\n",
    "- 📫 Reach out to me on the [tornado forum](https://torn.community/u/tintin)"
   ]
  }
 ],
 "metadata": {
  "hide_input": false,
  "kernelspec": {
   "display_name": "Python 3 (ipykernel)",
   "language": "python",
   "name": "python3"
  },
  "language_info": {
   "codemirror_mode": {
    "name": "ipython",
    "version": 3
   },
   "file_extension": ".py",
   "mimetype": "text/x-python",
   "name": "python",
   "nbconvert_exporter": "python",
   "pygments_lexer": "ipython3",
   "version": "3.9.10"
  },
  "varInspector": {
   "cols": {
    "lenName": 16,
    "lenType": 16,
    "lenVar": 40
   },
   "kernels_config": {
    "python": {
     "delete_cmd_postfix": "",
     "delete_cmd_prefix": "del ",
     "library": "var_list.py",
     "varRefreshCmd": "print(var_dic_list())"
    },
    "r": {
     "delete_cmd_postfix": ") ",
     "delete_cmd_prefix": "rm(",
     "library": "var_list.r",
     "varRefreshCmd": "cat(var_dic_list()) "
    }
   },
   "types_to_exclude": [
    "module",
    "function",
    "builtin_function_or_method",
    "instance",
    "_Feature"
   ],
   "window_display": false
  }
 },
 "nbformat": 4,
 "nbformat_minor": 5
}
