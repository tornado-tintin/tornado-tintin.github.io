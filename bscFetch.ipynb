{
 "cells": [
  {
   "cell_type": "code",
   "execution_count": 1,
   "id": "eecead37",
   "metadata": {},
   "outputs": [],
   "source": [
    "from python_graphql_client import GraphqlClient\n",
    "import pandas as pd\n",
    "from datetime import datetime\n",
    "import matplotlib"
   ]
  },
  {
   "cell_type": "code",
   "execution_count": 2,
   "id": "c724109b",
   "metadata": {},
   "outputs": [],
   "source": [
    "def client():\n",
    "    return GraphqlClient(endpoint=\"https://api.thegraph.com/subgraphs/name/token-terminal-subgraphs/tornado-cash-v1-bsc\")\n",
    "\n",
    "def query(event, skip, timestamp):\n",
    "    return \"\"\"\n",
    "    {\n",
    "      \"\"\"+event+\"\"\"(first: 1000, orderBy: blockTimestamp, skip: \"\"\"+ str(skip)+\"\"\",\n",
    "      where: {blockTimestamp_gt: \"\"\"+ str(timestamp) +\"\"\"}) {\n",
    "        id\n",
    "        blockTimestamp\n",
    "      }\n",
    "\n",
    "    }\n",
    "\"\"\""
   ]
  },
  {
   "cell_type": "code",
   "execution_count": 3,
   "id": "401e11d9-0e5d-4168-8659-3a584d62290d",
   "metadata": {},
   "outputs": [
    {
     "ename": "NameError",
     "evalue": "name 'poolEventsArray' is not defined",
     "output_type": "error",
     "traceback": [
      "\u001b[0;31m---------------------------------------------------------------------------\u001b[0m",
      "\u001b[0;31mNameError\u001b[0m                                 Traceback (most recent call last)",
      "Input \u001b[0;32mIn [3]\u001b[0m, in \u001b[0;36m<module>\u001b[0;34m\u001b[0m\n\u001b[1;32m     38\u001b[0m     combined[\u001b[38;5;124m'\u001b[39m\u001b[38;5;124mcurrency\u001b[39m\u001b[38;5;124m'\u001b[39m] \u001b[38;5;241m=\u001b[39m \u001b[38;5;124m'\u001b[39m\u001b[38;5;124mmatic\u001b[39m\u001b[38;5;124m'\u001b[39m\n\u001b[1;32m     39\u001b[0m     poolEventsList\u001b[38;5;241m.\u001b[39mappend(combined)\n\u001b[0;32m---> 41\u001b[0m poolEvents \u001b[38;5;241m=\u001b[39m pd\u001b[38;5;241m.\u001b[39mconcat(\u001b[43mpoolEventsArray\u001b[49m)\n",
      "\u001b[0;31mNameError\u001b[0m: name 'poolEventsArray' is not defined"
     ]
    }
   ],
   "source": [
    "def getPoolEvents(event, debug=False):\n",
    "    timestamp=0\n",
    "    poolEvents=0\n",
    "    \n",
    "    while(True):\n",
    "        skip=0\n",
    "        poolEventsTs=0\n",
    "        while(skip <= 5000):\n",
    "            querys = query(event, skip, timestamp)\n",
    "            try:\n",
    "                tgdata_raw = client().execute(query=querys)['data'][event]\n",
    "                if debug : print(skip, timestamp, len(tgdata_raw))\n",
    "            except:\n",
    "                print(client().execute(query=querys))\n",
    "                break\n",
    "            tgdata = pd.DataFrame.from_dict(tgdata_raw)\n",
    "            if type(poolEventsTs) is int : poolEventsTs = tgdata \n",
    "            else : poolEventsTs = pd.concat([poolEventsTs,tgdata], ignore_index=True)\n",
    "\n",
    "            if tgdata.shape[0] < 1000: break\n",
    "            skip = skip + 1000\n",
    "        if type(poolEvents) is int :  poolEvents = poolEventsTs \n",
    "        else :  poolEvents = pd.concat([poolEvents,poolEventsTs], ignore_index=True)\n",
    "\n",
    "        if poolEventsTs.shape[0] < 6000: break\n",
    "        timestamp = str(int(poolEventsTs['blockTimestamp'].iloc[-1]) -1)\n",
    "\n",
    "    return poolEvents\n",
    "\n",
    "poolEventsList =[]\n",
    "for size in ['01','1','10','100']:\n",
    "    deposits = getPoolEvents(f'bnb{size}V1DepositV1Es').drop_duplicates()\n",
    "    deposits['type'] = 'D'\n",
    "    withdrawls = getPoolEvents(f'bnb{size}V1WithdrawalV1Es').drop_duplicates()\n",
    "    withdrawls['type'] = 'W'\n",
    "    combined = pd.concat([deposits, withdrawls])\n",
    "    combined['amount'] = size\n",
    "    combined['currency'] = 'bnb'\n",
    "    poolEventsList.append(combined)\n",
    "\n",
    "poolEvents = pd.concat(poolEventsList)"
   ]
  },
  {
   "cell_type": "markdown",
   "id": "05e76cd0",
   "metadata": {},
   "source": [
    "data grouping"
   ]
  },
  {
   "cell_type": "code",
   "execution_count": 7,
   "id": "8ba5d5ce",
   "metadata": {},
   "outputs": [],
   "source": [
    "poolEvents['date']= pd.to_datetime(poolEvents['blockTimestamp'], unit='s').dt.date"
   ]
  },
  {
   "cell_type": "code",
   "execution_count": 8,
   "id": "e9ea1f6d",
   "metadata": {},
   "outputs": [],
   "source": [
    "dailyPoolEventsList = []\n",
    "for date, df in poolEvents.groupby('date'):\n",
    "    df['type'] = df['currency'] +'-'+ df['amount'] +'-'+ df['type']\n",
    "    dayEvents = df.groupby('type')['id'].count().rename(date)\n",
    "    dailyPoolEventsList.append(dayEvents)\n",
    "dailyPoolEvents = pd.concat(dailyPoolEventsList, axis=1).sort_values(by='type').fillna(0).transpose()\n",
    "cumPoolEvents = dailyPoolEvents.cumsum()\n",
    "cumPoolEvents.to_json('daily-events-bsc.json')"
   ]
  },
  {
   "cell_type": "code",
   "execution_count": 9,
   "id": "8c84fcc7",
   "metadata": {},
   "outputs": [],
   "source": [
    "import pandas as pd\n",
    "eventDf = pd.read_json('daily-events-bsc.json')"
   ]
  },
  {
   "cell_type": "code",
   "execution_count": null,
   "id": "323259b2",
   "metadata": {},
   "outputs": [],
   "source": [
    "eventDf"
   ]
  }
 ],
 "metadata": {
  "kernelspec": {
   "display_name": "Python 3.9.10 64-bit ('3.9.10')",
   "language": "python",
   "name": "python3910jvsc74a57bd0b71be414dd028fad3c570829034bd2eb81350c3526ba4767d46d8bb0a4d94ec5"
  },
  "language_info": {
   "codemirror_mode": {
    "name": "ipython",
    "version": 3
   },
   "file_extension": ".py",
   "mimetype": "text/x-python",
   "name": "python",
   "nbconvert_exporter": "python",
   "pygments_lexer": "ipython3",
   "version": "3.9.10"
  }
 },
 "nbformat": 4,
 "nbformat_minor": 5
}
